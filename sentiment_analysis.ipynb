{
 "cells": [
  {
   "cell_type": "code",
   "execution_count": 49,
   "metadata": {},
   "outputs": [],
   "source": [
    "from flair.models import TextClassifier\n",
    "from flair.models import RelationExtractor, SequenceTagger\n",
    "from flair.data import Sentence\n",
    "import pandas as pd\n",
    "from textblob import TextBlob\n",
    "from nltk.sentiment.vader import SentimentIntensityAnalyzer"
   ]
  },
  {
   "cell_type": "code",
   "execution_count": 50,
   "metadata": {},
   "outputs": [],
   "source": [
    "\n",
    "def flair_data_wrangling(raw_prediction):\n",
    "\n",
    "    sign = 1\n",
    "    mungled_prediction = str(raw_prediction[0])\n",
    "    \n",
    "    if 'NEGATIVE' in mungled_prediction:\n",
    "        sign = -sign\n",
    "        \n",
    "    mungled_prediction = sign * float(mungled_prediction[-10:].split('(')[1].split(')')[0])\n",
    "    \n",
    "    return mungled_prediction"
   ]
  },
  {
   "cell_type": "code",
   "execution_count": 51,
   "metadata": {},
   "outputs": [],
   "source": [
    "def run_sentiment_analysis(input_filename, output_filename_1):\n",
    "      \n",
    "      data = pd.read_csv(input_filename, index_col= 1)\n",
    "      \n",
    "      sentiment_analysis = dict(flair_score = [],textblob_polarity = [], textblob_subjectivity = [], \n",
    "                                vader_pos =[], vader_neu = [], vader_neg = [], vader_com = [])\n",
    "      \n",
    "      result = [None] * len(sentiment_analysis)\n",
    "      \n",
    "      ##### flair sentiment analysis\n",
    "      \n",
    "      classifier = TextClassifier.load('en-sentiment')\n",
    "      analyzer = SentimentIntensityAnalyzer()\n",
    "\n",
    "      for x in data.index:\n",
    "            \n",
    "            text = data.at[x, 'text']\n",
    "            sentence = Sentence(text)\n",
    "            classifier.predict(sentence)\n",
    "            raw_prediction = sentence.labels\n",
    "            \n",
    "            result[0] = flair_data_wrangling(raw_prediction)\n",
    "            \n",
    "            sentiment_analysis['flair_score'].append(result[0])\n",
    "      \n",
    "      ##### Textblob sentiment analysis\n",
    "\n",
    "            blob = TextBlob(text)\n",
    "            result[1] = blob.sentiment.polarity\n",
    "            result[2] = blob.sentiment.subjectivity\n",
    "            \n",
    "            sentiment_analysis['textblob_polarity'].append(result[1])\n",
    "            sentiment_analysis['textblob_subjectivity'].append(result[2])\n",
    "            \n",
    "      ##### vader sentiment analysis\n",
    "      \n",
    "            vs = analyzer.polarity_scores(text)\n",
    "            \n",
    "            result[3] = vs['pos']  \n",
    "            result[4] = vs['neu'] \n",
    "            result[5] = vs['neg']  \n",
    "            result[6] = vs['compound']\n",
    "            \n",
    "            sentiment_analysis['vader_pos'].append(result[3])\n",
    "            sentiment_analysis['vader_neu'].append(result[4])\n",
    "            sentiment_analysis['vader_neg'].append(result[5])\n",
    "            sentiment_analysis['vader_com'].append(result[6])\n",
    "\n",
    "# print(sentiment_analysis)\n",
    "\n",
    "      senti_an_df = pd.DataFrame(sentiment_analysis)\n",
    "      senti_an_df.index.names = ['text_ID']\n",
    "      senti_an_df.to_csv(output_filename_1,index=True)\n",
    "                  "
   ]
  },
  {
   "cell_type": "code",
   "execution_count": 52,
   "metadata": {},
   "outputs": [],
   "source": [
    "def run_result_stats(output_filename_1, output_filename_2):\n",
    "    \n",
    "    data = pd.read_csv(output_filename_1)\n",
    "    data = data.describe()\n",
    "    data = data.iloc[: , 1:]\n",
    "    # pd.options.display.float_format = '{:,.3f}'.format\n",
    "    # print(data)    \n",
    "    data.to_csv(output_filename_2, float_format= '{:,.3f}'.format,  index=True)"
   ]
  },
  {
   "cell_type": "code",
   "execution_count": 53,
   "metadata": {},
   "outputs": [
    {
     "name": "stdout",
     "output_type": "stream",
     "text": [
      "2022-10-27 17:57:01,449 loading file /Users/Deo/.flair/models/sentiment-en-mix-distillbert_4.pt\n"
     ]
    }
   ],
   "source": [
    "if __name__ == \"__main__\":\n",
    "    \n",
    "    input_filename = 'google_news_data_cleaned.csv'\n",
    "    output_filename_1 = 'sentiment_analysis_result.csv'\n",
    "    output_filename_2 = 'result_stats.csv'\n",
    "    run_sentiment_analysis(input_filename, output_filename_1)\n",
    "    run_result_stats(output_filename_1, output_filename_2)"
   ]
  }
 ],
 "metadata": {
  "kernelspec": {
   "display_name": "Python 3.8.13 ('py37')",
   "language": "python",
   "name": "python3"
  },
  "language_info": {
   "codemirror_mode": {
    "name": "ipython",
    "version": 3
   },
   "file_extension": ".py",
   "mimetype": "text/x-python",
   "name": "python",
   "nbconvert_exporter": "python",
   "pygments_lexer": "ipython3",
   "version": "3.8.13"
  },
  "orig_nbformat": 4,
  "vscode": {
   "interpreter": {
    "hash": "6576f3d226de05e644183efd1a42ab37a2df7ccf97f3841010d00ab1ddb3300e"
   }
  }
 },
 "nbformat": 4,
 "nbformat_minor": 2
}
